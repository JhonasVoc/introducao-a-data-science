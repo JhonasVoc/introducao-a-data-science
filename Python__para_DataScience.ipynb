{
  "nbformat": 4,
  "nbformat_minor": 0,
  "metadata": {
    "colab": {
      "provenance": [],
      "toc_visible": true,
      "authorship_tag": "ABX9TyP7452x2VuolFGPEKCuFPDP",
      "include_colab_link": true
    },
    "kernelspec": {
      "name": "python3",
      "display_name": "Python 3"
    },
    "language_info": {
      "name": "python"
    }
  },
  "cells": [
    {
      "cell_type": "markdown",
      "metadata": {
        "id": "view-in-github",
        "colab_type": "text"
      },
      "source": [
        "<a href=\"https://colab.research.google.com/github/JhonasVoc/introducao-a-data-science/blob/master/Python__para_DataScience.ipynb\" target=\"_parent\"><img src=\"https://colab.research.google.com/assets/colab-badge.svg\" alt=\"Open In Colab\"/></a>"
      ]
    },
    {
      "cell_type": "markdown",
      "source": [
        "\n",
        "\n",
        "# Funções\n",
        "\n"
      ],
      "metadata": {
        "id": "bppxi9xPSn4Q"
      }
    },
    {
      "cell_type": "markdown",
      "source": [
        "## Função sem parametro"
      ],
      "metadata": {
        "id": "E1BkSVyLT0OO"
      }
    },
    {
      "cell_type": "code",
      "source": [
        "def media():\n",
        "    calculo = (10+5+4)/3\n",
        "    print(calculo)"
      ],
      "metadata": {
        "id": "-7Lf1SrYTca1"
      },
      "execution_count": null,
      "outputs": []
    },
    {
      "cell_type": "code",
      "source": [
        "media()"
      ],
      "metadata": {
        "colab": {
          "base_uri": "https://localhost:8080/"
        },
        "id": "H5DJB3zsTzKt",
        "outputId": "4b775cc1-1a0a-4efc-a850-ee05ad780014"
      },
      "execution_count": null,
      "outputs": [
        {
          "output_type": "stream",
          "name": "stdout",
          "text": [
            "6.333333333333333\n"
          ]
        }
      ]
    },
    {
      "cell_type": "markdown",
      "source": [
        "## Função com parâmetros"
      ],
      "metadata": {
        "id": "aLmJKO5nT5kh"
      }
    },
    {
      "cell_type": "code",
      "source": [
        "def media (nota_1,nota_2,nota_3):\n",
        "    calculo = round((nota_1+nota_2+nota_3)/3,2)\n",
        "    print(calculo)"
      ],
      "metadata": {
        "id": "gjAYBN7sT96b"
      },
      "execution_count": null,
      "outputs": []
    },
    {
      "cell_type": "code",
      "source": [
        "media(3,5,6)"
      ],
      "metadata": {
        "colab": {
          "base_uri": "https://localhost:8080/"
        },
        "id": "5PyLdC4LVBDB",
        "outputId": "d91808c3-49c1-4198-8e5f-6f007e39a949"
      },
      "execution_count": null,
      "outputs": [
        {
          "output_type": "stream",
          "name": "stdout",
          "text": [
            "4.67\n"
          ]
        }
      ]
    },
    {
      "cell_type": "code",
      "source": [
        "nota1 =5\n",
        "nota2 = 7\n",
        "nota3 =9\n",
        "\n",
        "media(nota1,nota2,nota3)"
      ],
      "metadata": {
        "colab": {
          "base_uri": "https://localhost:8080/"
        },
        "id": "qWJjpkaBVFPk",
        "outputId": "cc7eca69-a1da-4b69-dcf1-699517904084"
      },
      "execution_count": null,
      "outputs": [
        {
          "output_type": "stream",
          "name": "stdout",
          "text": [
            "7.0\n"
          ]
        }
      ]
    },
    {
      "cell_type": "markdown",
      "source": [
        "Demanda para calcula a média de um estudadente a partir de uma lista, sendo possível alterar a quantidade de notas, sem impedir que cálculo precise ser alterado.\n",
        "\n",
        "\n"
      ],
      "metadata": {
        "id": "YjTizZmFVevx"
      }
    },
    {
      "cell_type": "code",
      "source": [
        "# Notas do(a) estudade\n",
        "notas =[8,4.5,7.5,9,10]"
      ],
      "metadata": {
        "id": "w6W2yMG0XJ9w"
      },
      "execution_count": null,
      "outputs": []
    },
    {
      "cell_type": "code",
      "source": [
        "def media(lista):\n",
        "    calculo = sum(lista) / len(lista)\n",
        "    print(calculo)\n"
      ],
      "metadata": {
        "id": "DdKhOYdYXpJa"
      },
      "execution_count": null,
      "outputs": []
    },
    {
      "cell_type": "code",
      "source": [
        "media(notas)\n"
      ],
      "metadata": {
        "colab": {
          "base_uri": "https://localhost:8080/"
        },
        "id": "ronkXQn8YOSj",
        "outputId": "fc23d32f-e95c-4e89-de8d-64aceea11695"
      },
      "execution_count": null,
      "outputs": [
        {
          "output_type": "stream",
          "name": "stdout",
          "text": [
            "7.8\n"
          ]
        }
      ]
    },
    {
      "cell_type": "code",
      "source": [
        "resultado = media(notas)"
      ],
      "metadata": {
        "colab": {
          "base_uri": "https://localhost:8080/"
        },
        "id": "0dY_AnP-YTWS",
        "outputId": "81bba920-2d19-4d67-ee5b-d352c0ab0918"
      },
      "execution_count": null,
      "outputs": [
        {
          "output_type": "stream",
          "name": "stdout",
          "text": [
            "7.8\n"
          ]
        }
      ]
    },
    {
      "cell_type": "code",
      "source": [
        "type(resultado)"
      ],
      "metadata": {
        "colab": {
          "base_uri": "https://localhost:8080/"
        },
        "id": "yAMK2O8IYWND",
        "outputId": "3b9d72b7-6a14-4842-fe62-f75a6223b819"
      },
      "execution_count": null,
      "outputs": [
        {
          "output_type": "execute_result",
          "data": {
            "text/plain": [
              "NoneType"
            ]
          },
          "metadata": {},
          "execution_count": 16
        }
      ]
    },
    {
      "cell_type": "code",
      "source": [
        "# Uma variável que nasce em uma função, morre dentro da função,ou seja, nãa tem tipo."
      ],
      "metadata": {
        "id": "pwq5sZVIYXiL"
      },
      "execution_count": null,
      "outputs": []
    },
    {
      "cell_type": "markdown",
      "source": [
        "## Escopo global e local"
      ],
      "metadata": {
        "id": "bfz7tGqSYdcq"
      }
    },
    {
      "cell_type": "markdown",
      "source": [
        "\n",
        "<font color = blue>O escopo global é o espaço no qual uma variável pode ser acessada por qualquer função ou código que esteja sendo executado no programa. Já o escopo local é o espaço no qual a variável pode ser acessada apenas pela função em que foi definida.\n",
        "\n",
        "\n"
      ],
      "metadata": {
        "id": "PokiJ1h-cuEE"
      }
    },
    {
      "cell_type": "code",
      "source": [
        "x = 5\n",
        "\n",
        "def soma():\n",
        "  y = 5\n",
        "  print(x + y)\n"
      ],
      "metadata": {
        "id": "eR3wYJ3Dcxoy"
      },
      "execution_count": null,
      "outputs": []
    },
    {
      "cell_type": "code",
      "source": [
        "soma()"
      ],
      "metadata": {
        "colab": {
          "base_uri": "https://localhost:8080/"
        },
        "id": "lMJ-bimmdM1s",
        "outputId": "149fe332-e67e-4d60-846c-9a6129ee13fc"
      },
      "execution_count": null,
      "outputs": [
        {
          "output_type": "stream",
          "name": "stdout",
          "text": [
            "10\n"
          ]
        }
      ]
    },
    {
      "cell_type": "code",
      "source": [
        "print(x)"
      ],
      "metadata": {
        "colab": {
          "base_uri": "https://localhost:8080/"
        },
        "id": "Q6cn82LadNsg",
        "outputId": "67eac66b-5376-410f-d322-548aabd43f27"
      },
      "execution_count": null,
      "outputs": [
        {
          "output_type": "stream",
          "name": "stdout",
          "text": [
            "5\n"
          ]
        }
      ]
    },
    {
      "cell_type": "code",
      "source": [
        "print(y)"
      ],
      "metadata": {
        "colab": {
          "base_uri": "https://localhost:8080/",
          "height": 175
        },
        "id": "aBAdv9HPdPqr",
        "outputId": "53e03bca-ab4c-4fdc-d26a-b6c5c37d929b"
      },
      "execution_count": null,
      "outputs": [
        {
          "output_type": "error",
          "ename": "NameError",
          "evalue": "ignored",
          "traceback": [
            "\u001b[0;31m---------------------------------------------------------------------------\u001b[0m",
            "\u001b[0;31mNameError\u001b[0m                                 Traceback (most recent call last)",
            "\u001b[0;32m<ipython-input-22-d9183e048de3>\u001b[0m in \u001b[0;36m<cell line: 1>\u001b[0;34m()\u001b[0m\n\u001b[0;32m----> 1\u001b[0;31m \u001b[0mprint\u001b[0m\u001b[0;34m(\u001b[0m\u001b[0my\u001b[0m\u001b[0;34m)\u001b[0m\u001b[0;34m\u001b[0m\u001b[0;34m\u001b[0m\u001b[0m\n\u001b[0m",
            "\u001b[0;31mNameError\u001b[0m: name 'y' is not defined"
          ]
        }
      ]
    },
    {
      "cell_type": "markdown",
      "source": [
        "<font color = red> Esse erro ocorre pois aa variável x faz parte do escopo global e a y esta num contexto local"
      ],
      "metadata": {
        "id": "zC99-uuZdQsA"
      }
    },
    {
      "cell_type": "markdown",
      "source": [
        "## Funções com retorno"
      ],
      "metadata": {
        "id": "N-v5WbWEdcvF"
      }
    },
    {
      "cell_type": "code",
      "source": [
        "notas = [8.5,8,10,4,6]"
      ],
      "metadata": {
        "id": "RFkgC3gAdivf"
      },
      "execution_count": null,
      "outputs": []
    },
    {
      "cell_type": "code",
      "source": [
        "def media(lista):\n",
        "    calculo = sum(lista)/len(lista)\n",
        "    return calculo"
      ],
      "metadata": {
        "id": "6AkcMU20k61D"
      },
      "execution_count": null,
      "outputs": []
    },
    {
      "cell_type": "code",
      "source": [
        "resultaddo = media(notas)\n",
        "resultado"
      ],
      "metadata": {
        "id": "o6WfcrfwlEIS"
      },
      "execution_count": null,
      "outputs": []
    },
    {
      "cell_type": "markdown",
      "source": [
        "<font color = blue>Recebemos uma nova demanda, desta vez, de calcular a média de um estudante a partir de uma lista e retornar tanto a média quanto a situação do estudante (\"Aprovado(a)\" se a nota for maior ou igual a 6.0, caso contrário, será \"Reprovado(a)\")\n"
      ],
      "metadata": {
        "id": "vUEYxBdZlLry"
      }
    },
    {
      "cell_type": "code",
      "source": [
        "def boletim(lista):\n",
        "    media = sum(lista)/ len(lista)\n",
        "\n",
        "    if media >= 6:\n",
        "        sit = \"aprovado\"\n",
        "    else:\n",
        "        sit = \"reprovado\"\n",
        "\n",
        "    return(media, sit) #tupla\n"
      ],
      "metadata": {
        "id": "uVqrNXu5lnPe"
      },
      "execution_count": null,
      "outputs": []
    },
    {
      "cell_type": "code",
      "source": [
        "boletim(notas)"
      ],
      "metadata": {
        "colab": {
          "base_uri": "https://localhost:8080/"
        },
        "id": "EpCrTn5xmKNj",
        "outputId": "16c86cdd-607b-44da-d555-211c45dccc28"
      },
      "execution_count": null,
      "outputs": [
        {
          "output_type": "execute_result",
          "data": {
            "text/plain": [
              "(7.3, 'aprovado')"
            ]
          },
          "metadata": {},
          "execution_count": 28
        }
      ]
    },
    {
      "cell_type": "code",
      "source": [
        "media, sit = boletim(notas) # agora estou passanddo os valores para media e sit num contexto global\n"
      ],
      "metadata": {
        "id": "GN1PCuQEmMrB"
      },
      "execution_count": null,
      "outputs": []
    },
    {
      "cell_type": "code",
      "source": [
        "media\n"
      ],
      "metadata": {
        "colab": {
          "base_uri": "https://localhost:8080/"
        },
        "id": "bHIJLKY8ntPq",
        "outputId": "0aa16982-4e69-448a-ee93-a37b2670aaf3"
      },
      "execution_count": null,
      "outputs": [
        {
          "output_type": "execute_result",
          "data": {
            "text/plain": [
              "7.3"
            ]
          },
          "metadata": {},
          "execution_count": 32
        }
      ]
    },
    {
      "cell_type": "code",
      "source": [
        "sit"
      ],
      "metadata": {
        "colab": {
          "base_uri": "https://localhost:8080/",
          "height": 35
        },
        "id": "LwuMx2mhn0fe",
        "outputId": "9564ceb9-e407-4625-e147-e0b48c4c1f63"
      },
      "execution_count": null,
      "outputs": [
        {
          "output_type": "execute_result",
          "data": {
            "text/plain": [
              "'aprovado'"
            ],
            "application/vnd.google.colaboratory.intrinsic+json": {
              "type": "string"
            }
          },
          "metadata": {},
          "execution_count": 33
        }
      ]
    },
    {
      "cell_type": "code",
      "source": [
        "print(f'O(a) estudante atingiu uma média de {media} e foi {sit}.')"
      ],
      "metadata": {
        "colab": {
          "base_uri": "https://localhost:8080/"
        },
        "id": "T_KHbOkin1oF",
        "outputId": "55e6e9fd-c5ab-4868-c7c0-0e3b472628df"
      },
      "execution_count": null,
      "outputs": [
        {
          "output_type": "stream",
          "name": "stdout",
          "text": [
            "O(a) estudante atingiu uma média de 7.3 e foi aprovado.\n"
          ]
        }
      ]
    },
    {
      "cell_type": "markdown",
      "source": [
        "## Documentação Type hint"
      ],
      "metadata": {
        "id": "uODp7Om4n3Af"
      }
    },
    {
      "cell_type": "code",
      "source": [
        "def greeting(name: str) -> str:\n",
        "    return 'Hello ' + name"
      ],
      "metadata": {
        "id": "eFdYWWHkvSYq"
      },
      "execution_count": null,
      "outputs": []
    },
    {
      "cell_type": "code",
      "source": [
        "greeting(\"Jhonas\")"
      ],
      "metadata": {
        "colab": {
          "base_uri": "https://localhost:8080/",
          "height": 35
        },
        "id": "eck8wZQpvV_8",
        "outputId": "eb8a7c9d-6415-4dce-961e-29d3f1b30b5c"
      },
      "execution_count": null,
      "outputs": [
        {
          "output_type": "execute_result",
          "data": {
            "text/plain": [
              "'Hello Jhonas'"
            ],
            "application/vnd.google.colaboratory.intrinsic+json": {
              "type": "string"
            }
          },
          "metadata": {},
          "execution_count": 50
        }
      ]
    },
    {
      "cell_type": "code",
      "source": [
        "def media(lista: list) -> float:\n",
        "  calculo = sum(lista) / len(lista)\n",
        "  return calculo"
      ],
      "metadata": {
        "id": "aT9MdSJXr6cW"
      },
      "execution_count": null,
      "outputs": []
    },
    {
      "cell_type": "code",
      "source": [
        "# a nossa função recebe uma lista do tipo list e retorna uma variável do tipo float\n",
        "# caso não recebe nenhum valor de parâmetro será passada uma lista com um único\n",
        "# elemento sendo ele zero\n",
        "def media(lista: list=[0]) -> float:\n",
        "  calculo = sum(lista) / len(lista)\n",
        "  return calculo"
      ],
      "metadata": {
        "id": "F7eHGE6Sr7pB"
      },
      "execution_count": null,
      "outputs": []
    },
    {
      "cell_type": "code",
      "source": [
        "media()"
      ],
      "metadata": {
        "colab": {
          "base_uri": "https://localhost:8080/"
        },
        "id": "O80a3Uinuuiz",
        "outputId": "f8a517e1-7f1c-461d-f111-469b32152275"
      },
      "execution_count": null,
      "outputs": [
        {
          "output_type": "execute_result",
          "data": {
            "text/plain": [
              "0.0"
            ]
          },
          "metadata": {},
          "execution_count": 47
        }
      ]
    },
    {
      "cell_type": "markdown",
      "source": [
        "## Docstring\n"
      ],
      "metadata": {
        "id": "Z3HybgjMuw-1"
      }
    },
    {
      "cell_type": "code",
      "source": [
        "def media(lista: list=[0]) -> float:\n",
        "  ''' Função para calcular a média de notas passadas por uma lista\n",
        "\n",
        "  lista: list, default [0]\n",
        "    Lista com as notas para calcular a média\n",
        "  return = calculo: float\n",
        "    Média calculada\n",
        "  '''\n",
        "  calculo = sum(lista) / len(lista)\n",
        "  return calculo"
      ],
      "metadata": {
        "id": "bertIY_tvFe4"
      },
      "execution_count": null,
      "outputs": []
    },
    {
      "cell_type": "markdown",
      "source": [
        "## Função lambda"
      ],
      "metadata": {
        "id": "HY7arGHIvF3Q"
      }
    },
    {
      "cell_type": "markdown",
      "source": [
        "<font color = blue> Vamos requisitar ao usuário a entrada das 3 notas (N1, N2, N3) do estudante e devolver a média ponderada deste estudante. Os pesos das notas são de, respectivamente 3, 2, 5. Precisamos exibir um pequeno texto em que indicamos a média do(a) estudante. Vamos resolver esse desafio?"
      ],
      "metadata": {
        "id": "VVzezvI86HO7"
      }
    },
    {
      "cell_type": "code",
      "source": [
        "# Comparando uma função de qualitativo no formato de função para função anônima\n",
        "nota = float(input(\"Digite a nota do(a) estudante: \"))\n",
        "\n",
        "def qualitativo(x):\n",
        "    return x + 0.5\n",
        "\n",
        "qualitativo(nota)"
      ],
      "metadata": {
        "colab": {
          "base_uri": "https://localhost:8080/"
        },
        "id": "lF4-TC9Dvve3",
        "outputId": "9bdbe5b6-9b89-4451-cabb-a0f45165b39e"
      },
      "execution_count": null,
      "outputs": [
        {
          "name": "stdout",
          "output_type": "stream",
          "text": [
            "Digite a nota do(a) estudante: 7\n"
          ]
        },
        {
          "output_type": "execute_result",
          "data": {
            "text/plain": [
              "7.5"
            ]
          },
          "metadata": {},
          "execution_count": 52
        }
      ]
    },
    {
      "cell_type": "code",
      "source": [
        "# Testando a mesma função para uma função lambda\n",
        "nota = float(input(\"Digite a nota do(a) estudante: \"))\n",
        "\n",
        "qualitativo = lambda x: x + 0.5\n",
        "\n",
        "qualitativo(nota)"
      ],
      "metadata": {
        "colab": {
          "base_uri": "https://localhost:8080/"
        },
        "id": "firWAADYvx9w",
        "outputId": "1e63b11c-9d3c-4d31-fdc4-e848ee3ce036"
      },
      "execution_count": null,
      "outputs": [
        {
          "name": "stdout",
          "output_type": "stream",
          "text": [
            "Digite a nota do(a) estudante: 8\n"
          ]
        },
        {
          "output_type": "execute_result",
          "data": {
            "text/plain": [
              "8.5"
            ]
          },
          "metadata": {},
          "execution_count": 53
        }
      ]
    },
    {
      "cell_type": "code",
      "source": [
        "# Recebendo as notas e calculando a média ponderável\n",
        "N1 = float(input(\"Digite a 1ª nota do(a) estudante: \"))\n",
        "N2 = float(input(\"Digite a 2ª nota do(a) estudante: \"))\n",
        "N3 = float(input(\"Digite a 3ª nota do(a) estudante: \"))\n",
        "\n",
        "media_ponderavel = lambda x, y, z: (x * 3 + y * 2 + z * 5)/10\n",
        "media_estudante = media_ponderavel(N1,N2,N3)\n",
        "media_estudante"
      ],
      "metadata": {
        "colab": {
          "base_uri": "https://localhost:8080/"
        },
        "id": "vrb8abTX5jXq",
        "outputId": "cec84dac-50bf-4de0-ced9-957c60770d42"
      },
      "execution_count": null,
      "outputs": [
        {
          "name": "stdout",
          "output_type": "stream",
          "text": [
            "Digite a 1ª nota do(a) estudante: 7\n",
            "Digite a 2ª nota do(a) estudante: 8\n",
            "Digite a 3ª nota do(a) estudante: 7\n"
          ]
        },
        {
          "output_type": "execute_result",
          "data": {
            "text/plain": [
              "7.2"
            ]
          },
          "metadata": {},
          "execution_count": 56
        }
      ]
    },
    {
      "cell_type": "code",
      "source": [
        "# Exibindo a média\n",
        "print(f'O(a) estudante atingiu uma média de {media_estudante}')"
      ],
      "metadata": {
        "colab": {
          "base_uri": "https://localhost:8080/"
        },
        "id": "TVSjHVNT5n8J",
        "outputId": "5c7263ad-7c65-4122-91b8-e6537af6b07d"
      },
      "execution_count": null,
      "outputs": [
        {
          "output_type": "stream",
          "name": "stdout",
          "text": [
            "O(a) estudante atingiu uma média de 7.2\n"
          ]
        }
      ]
    },
    {
      "cell_type": "markdown",
      "source": [
        "## Função map"
      ],
      "metadata": {
        "id": "SmdDcGkY6SVh"
      }
    },
    {
      "cell_type": "markdown",
      "source": [
        "\n",
        "\n",
        "<font color = blue> O map é uma _BUILT-IN FUNCTIONS que mapeia valores. Quando usado junto à lambda, conseguimos realizar funções simples e rápidas que nos permitem alterar valores de variáveis, listas e até dicionários."
      ],
      "metadata": {
        "id": "XQUXbIVs6XuD"
      }
    },
    {
      "cell_type": "code",
      "source": [
        "# Notas do(a) estudante\n",
        "notas = [6.0, 7.0, 9.0, 5.5, 8.0]\n",
        "qualitativo = 0.5"
      ],
      "metadata": {
        "id": "4zmpTtUR6dym"
      },
      "execution_count": null,
      "outputs": []
    },
    {
      "cell_type": "code",
      "source": [
        "# vai dar erro porque estamos tentanando somar list com numero\n",
        "notas_atualizadas = lambda x: x + qualitativo\n",
        "notas_atualizadas(notas)"
      ],
      "metadata": {
        "colab": {
          "base_uri": "https://localhost:8080/",
          "height": 297
        },
        "id": "BV_H_I8v6gNQ",
        "outputId": "cbd2949e-4c7f-491a-ae7f-f47e27fad19d"
      },
      "execution_count": null,
      "outputs": [
        {
          "output_type": "error",
          "ename": "TypeError",
          "evalue": "ignored",
          "traceback": [
            "\u001b[0;31m---------------------------------------------------------------------------\u001b[0m",
            "\u001b[0;31mTypeError\u001b[0m                                 Traceback (most recent call last)",
            "\u001b[0;32m<ipython-input-60-b7230df5b4cc>\u001b[0m in \u001b[0;36m<cell line: 3>\u001b[0;34m()\u001b[0m\n\u001b[1;32m      1\u001b[0m \u001b[0;31m# vai dar erro porque estamo tentnaod somar list com numero\u001b[0m\u001b[0;34m\u001b[0m\u001b[0;34m\u001b[0m\u001b[0m\n\u001b[1;32m      2\u001b[0m \u001b[0mnotas_atualizadas\u001b[0m \u001b[0;34m=\u001b[0m \u001b[0;32mlambda\u001b[0m \u001b[0mx\u001b[0m\u001b[0;34m:\u001b[0m \u001b[0mx\u001b[0m \u001b[0;34m+\u001b[0m \u001b[0mqualitativo\u001b[0m\u001b[0;34m\u001b[0m\u001b[0;34m\u001b[0m\u001b[0m\n\u001b[0;32m----> 3\u001b[0;31m \u001b[0mnotas_atualizadas\u001b[0m\u001b[0;34m(\u001b[0m\u001b[0mnotas\u001b[0m\u001b[0;34m)\u001b[0m\u001b[0;34m\u001b[0m\u001b[0;34m\u001b[0m\u001b[0m\n\u001b[0m",
            "\u001b[0;32m<ipython-input-60-b7230df5b4cc>\u001b[0m in \u001b[0;36m<lambda>\u001b[0;34m(x)\u001b[0m\n\u001b[1;32m      1\u001b[0m \u001b[0;31m# vai dar erro porque estamo tentnaod somar list com numero\u001b[0m\u001b[0;34m\u001b[0m\u001b[0;34m\u001b[0m\u001b[0m\n\u001b[0;32m----> 2\u001b[0;31m \u001b[0mnotas_atualizadas\u001b[0m \u001b[0;34m=\u001b[0m \u001b[0;32mlambda\u001b[0m \u001b[0mx\u001b[0m\u001b[0;34m:\u001b[0m \u001b[0mx\u001b[0m \u001b[0;34m+\u001b[0m \u001b[0mqualitativo\u001b[0m\u001b[0;34m\u001b[0m\u001b[0;34m\u001b[0m\u001b[0m\n\u001b[0m\u001b[1;32m      3\u001b[0m \u001b[0mnotas_atualizadas\u001b[0m\u001b[0;34m(\u001b[0m\u001b[0mnotas\u001b[0m\u001b[0;34m)\u001b[0m\u001b[0;34m\u001b[0m\u001b[0;34m\u001b[0m\u001b[0m\n",
            "\u001b[0;31mTypeError\u001b[0m: can only concatenate list (not \"float\") to list"
          ]
        }
      ]
    },
    {
      "cell_type": "code",
      "source": [
        "# Não conseguimos aplicar o lambda em lista direto, é necessário utilizarmos junto a ela a função map\n",
        "notas_atualizadas = map(lambda x: x + qualitativo, notas)\n",
        "notas_atualizadas"
      ],
      "metadata": {
        "colab": {
          "base_uri": "https://localhost:8080/"
        },
        "id": "viuVYVjW6qPE",
        "outputId": "0e60963d-ace9-4fce-80e2-478c86c2e66b"
      },
      "execution_count": null,
      "outputs": [
        {
          "output_type": "execute_result",
          "data": {
            "text/plain": [
              "<map at 0x7b3102d412a0>"
            ]
          },
          "metadata": {},
          "execution_count": 62
        }
      ]
    },
    {
      "cell_type": "code",
      "source": [
        "notas_atualizadas = list(notas_atualizadas)\n",
        "notas_atualizadas"
      ],
      "metadata": {
        "colab": {
          "base_uri": "https://localhost:8080/"
        },
        "id": "uBjkMAAD7IKA",
        "outputId": "13636511-d660-4c2c-efe2-27d544717e78"
      },
      "execution_count": null,
      "outputs": [
        {
          "output_type": "execute_result",
          "data": {
            "text/plain": [
              "[6.5, 7.5, 9.5, 6.0, 8.5]"
            ]
          },
          "metadata": {},
          "execution_count": 65
        }
      ]
    },
    {
      "cell_type": "code",
      "source": [
        "# convertendo temperatura\n",
        "temp_celsius = [0, 25, 37, 78, 100]\n",
        "temp_fahrenheit = list(map(lambda x: (x * 9/5) + 32, temp_celsius))\n",
        "temp_fahrenheit"
      ],
      "metadata": {
        "colab": {
          "base_uri": "https://localhost:8080/"
        },
        "id": "6V3LYJle7O53",
        "outputId": "a9bd068b-acb2-4b69-d776-29fecfab8915"
      },
      "execution_count": null,
      "outputs": [
        {
          "output_type": "execute_result",
          "data": {
            "text/plain": [
              "[32.0, 77.0, 98.6, 172.4, 212.0]"
            ]
          },
          "metadata": {},
          "execution_count": 67
        }
      ]
    },
    {
      "cell_type": "markdown",
      "source": [
        "# Lista de lista"
      ],
      "metadata": {
        "id": "IHTTlXYc7nSj"
      }
    },
    {
      "cell_type": "markdown",
      "source": [
        "<font color = blue> Recebemos a demanda de transformar uma lista com o nome e as notas dos três trimestres de estudantes em uma lista simples com os nomes separados das notas e uma lista de listas com as três notas de cada estudante separadas umas das outras.\n",
        "Os dados recebidos correspondem a uma lista com os nomes e as respectivas notas de cada estudante. Vamos resolver esse desafio? Para facilitar o nosso entendimento do processo vamos trabalhar com uma turma fictícia de 5 estudantes."
      ],
      "metadata": {
        "id": "XBwyWOoj8Kwm"
      }
    },
    {
      "cell_type": "code",
      "source": [
        "notas_turma = ['João', 8.0, 9.0, 10.0,\n",
        "               'Maria', 9.0, 7.0, 6.0,\n",
        "               'José', 3.4, 7.0, 7.0,\n",
        "               'Cláudia', 5.5, 6.6, 8.0,\n",
        "               'Ana', 6.0, 10.0, 9.5]\n"
      ],
      "metadata": {
        "id": "yY4kE6is8RmX"
      },
      "execution_count": null,
      "outputs": []
    },
    {
      "cell_type": "code",
      "source": [
        "nomes = list()\n",
        "notas_juntas = list()"
      ],
      "metadata": {
        "id": "FTZDUdd68YdF"
      },
      "execution_count": null,
      "outputs": []
    },
    {
      "cell_type": "code",
      "source": [
        "for i in range (len(notas_turma)):\n",
        "    if i == 0 or i % 4 ==0:\n",
        "        nomes.append(notas_turma[i])\n",
        "    else:\n",
        "        notas_juntas.append(notas_turma[i])"
      ],
      "metadata": {
        "id": "5ZhuoiXn8k2s"
      },
      "execution_count": null,
      "outputs": []
    },
    {
      "cell_type": "code",
      "source": [
        "nomes\n"
      ],
      "metadata": {
        "colab": {
          "base_uri": "https://localhost:8080/"
        },
        "id": "kDoDkWdo9Hrt",
        "outputId": "97b0e923-26d6-46bf-9a7b-3d6280ba47a5"
      },
      "execution_count": null,
      "outputs": [
        {
          "output_type": "execute_result",
          "data": {
            "text/plain": [
              "['João', 'João', 'Maria', 'José', 'Cláudia', 'Ana']"
            ]
          },
          "metadata": {},
          "execution_count": 7
        }
      ]
    },
    {
      "cell_type": "code",
      "source": [
        "notas_juntas\n"
      ],
      "metadata": {
        "colab": {
          "base_uri": "https://localhost:8080/"
        },
        "id": "d6xXW5SR9RJQ",
        "outputId": "852aacdf-df5e-4582-c317-f26cb50fe2bc"
      },
      "execution_count": null,
      "outputs": [
        {
          "output_type": "execute_result",
          "data": {
            "text/plain": [
              "[8.0, 9.0, 10.0, 9.0, 7.0, 6.0, 3.4, 7.0, 7.0, 5.5, 6.6, 8.0, 6.0, 10.0, 9.5]"
            ]
          },
          "metadata": {},
          "execution_count": 8
        }
      ]
    },
    {
      "cell_type": "code",
      "source": [
        "notas = []\n",
        "\n",
        "for i in range(0,len(notas_juntas),3):\n",
        "    notas.append([notas_juntas[i],notas_juntas[i+1],notas_juntas[i+2]])\n",
        "notas"
      ],
      "metadata": {
        "colab": {
          "base_uri": "https://localhost:8080/"
        },
        "id": "Winldj8x9TQe",
        "outputId": "d43d8ba1-db0c-495f-e791-23f41071c92d"
      },
      "execution_count": null,
      "outputs": [
        {
          "output_type": "execute_result",
          "data": {
            "text/plain": [
              "[[8.0, 9.0, 10.0],\n",
              " [9.0, 7.0, 6.0],\n",
              " [3.4, 7.0, 7.0],\n",
              " [5.5, 6.6, 8.0],\n",
              " [6.0, 10.0, 9.5]]"
            ]
          },
          "metadata": {},
          "execution_count": 10
        }
      ]
    },
    {
      "cell_type": "code",
      "source": [
        "notas[0]"
      ],
      "metadata": {
        "colab": {
          "base_uri": "https://localhost:8080/"
        },
        "id": "Yo6X8fjx-ck5",
        "outputId": "70f9584b-710c-46ad-8dcd-cd74bcaf0efa"
      },
      "execution_count": null,
      "outputs": [
        {
          "output_type": "execute_result",
          "data": {
            "text/plain": [
              "[8.0, 9.0, 10.0]"
            ]
          },
          "metadata": {},
          "execution_count": 11
        }
      ]
    },
    {
      "cell_type": "code",
      "source": [
        "notas[0][2]"
      ],
      "metadata": {
        "colab": {
          "base_uri": "https://localhost:8080/"
        },
        "id": "eQFTMUf--5uz",
        "outputId": "716ccf92-798e-4ea7-c092-87ed18771917"
      },
      "execution_count": null,
      "outputs": [
        {
          "output_type": "execute_result",
          "data": {
            "text/plain": [
              "10.0"
            ]
          },
          "metadata": {},
          "execution_count": 12
        }
      ]
    },
    {
      "cell_type": "markdown",
      "source": [
        "#Lista de Tuplas"
      ],
      "metadata": {
        "id": "qX4hwafn-7sq"
      }
    },
    {
      "cell_type": "markdown",
      "source": [
        "<font color = blue>As tuplas são estruturas de dados usadas para armazenar itens em uma única variável. São imutáveis, ou seja, não permitem adição, alteração ou remoção de seus elementos. Após ser construída, seus dados são fixos."
      ],
      "metadata": {
        "id": "Avbytetk_t91"
      }
    },
    {
      "cell_type": "markdown",
      "source": [
        "<font color = orange> Nesta nova demanda, precisamos gerar uma lista de tuplas com os nomes dos estudantes e o código ID de cada um para a plataforma de análise dos dados. A criação do código consiste em concatenar a primeira letra do nome do estudante a um número aleatório de 0 a 999. Os dados recebidos correspondem a uma lista dos nomes de cada estudante."
      ],
      "metadata": {
        "id": "C5138z15CL3a"
      }
    },
    {
      "cell_type": "code",
      "source": [
        "estudantes = [\"Jhonas\",\"Douglas\",\"Matheus\",\"Maria\",\"Joaquina\",\"Afonso\"]\n",
        "estudantes"
      ],
      "metadata": {
        "colab": {
          "base_uri": "https://localhost:8080/"
        },
        "id": "vGh_JIBS_0v1",
        "outputId": "88618c6c-fae3-4b6e-ac8a-2afb49a3e058"
      },
      "execution_count": null,
      "outputs": [
        {
          "output_type": "execute_result",
          "data": {
            "text/plain": [
              "['Jhonas', 'Douglas', 'Matheus', 'Maria', 'Joaquina', 'Afonso']"
            ]
          },
          "metadata": {},
          "execution_count": 15
        }
      ]
    },
    {
      "cell_type": "code",
      "source": [
        "from random import randint\n",
        "def gera_codigo():\n",
        "    return str(randint(0,999))"
      ],
      "metadata": {
        "id": "2Sx-fOopBDFe"
      },
      "execution_count": null,
      "outputs": []
    },
    {
      "cell_type": "code",
      "source": [
        "codigo_estudantes = list()\n",
        "for i in range(len(estudantes)):\n",
        "    codigo_estudantes.append((estudantes[i],estudantes[i][0]+ gera_codigo()))\n",
        "codigo_estudantes"
      ],
      "metadata": {
        "colab": {
          "base_uri": "https://localhost:8080/"
        },
        "id": "Zb-KEI2FBQ26",
        "outputId": "caa109b3-9599-4bfc-88d9-85d4d3c65d46"
      },
      "execution_count": null,
      "outputs": [
        {
          "output_type": "execute_result",
          "data": {
            "text/plain": [
              "[('Jhonas', 'J630'),\n",
              " ('Douglas', 'D160'),\n",
              " ('Matheus', 'M98'),\n",
              " ('Maria', 'M928'),\n",
              " ('Joaquina', 'J366'),\n",
              " ('Afonso', 'A601')]"
            ]
          },
          "metadata": {},
          "execution_count": 18
        }
      ]
    },
    {
      "cell_type": "markdown",
      "source": [
        " # List Comprehension\n"
      ],
      "metadata": {
        "id": "mqyOiElTCE13"
      }
    },
    {
      "cell_type": "markdown",
      "source": [
        "\n",
        "\n",
        "```\n",
        "`# [expressão for item in lista]\n",
        "```\n",
        "\n"
      ],
      "metadata": {
        "id": "CxIXHE1gERzy"
      }
    },
    {
      "cell_type": "markdown",
      "source": [
        "<font color = blue>Recebemos a demanda de criar uma lista com as médias dos estudantes da lista de listas que criamos na Situação 6. Lembrando que cada lista da lista de listas possui as três notas de cada estudante."
      ],
      "metadata": {
        "id": "eKCDMwdwGp1p"
      }
    },
    {
      "cell_type": "code",
      "source": [
        "notas = [[8.0, 9.0, 10.0],\n",
        "         [9.0, 7.0, 6.0],\n",
        "         [3.4, 7.0, 7.0],\n",
        "          [5.5, 6.6, 8.0],\n",
        "          [6.0, 10.0, 9.5]]\n",
        "nomes = [('João', 'J720'), ('Maria', 'M205'), ('José', 'J371'), ('Cláudia', 'C546'), ('Ana', 'A347')]"
      ],
      "metadata": {
        "id": "zPNskakRGg2p"
      },
      "execution_count": null,
      "outputs": []
    },
    {
      "cell_type": "code",
      "source": [
        "def media(lista: list=[0]) -> float:\n",
        "  ''' Função para calcular a média de notas passadas por uma lista\n",
        "\n",
        "  lista: list, default [0]\n",
        "    Lista com as notas para calcular a média\n",
        "  return = calculo: float\n",
        "    Média calculada\n",
        "  '''\n",
        "\n",
        "  calculo = sum(lista) / len(lista)\n",
        "\n",
        "  return calculo\n"
      ],
      "metadata": {
        "id": "gLbUTfRsGmo2"
      },
      "execution_count": null,
      "outputs": []
    },
    {
      "cell_type": "markdown",
      "source": [
        "\n",
        "\n",
        "```\n",
        "# [expr for item in lista]\n",
        "#[expr for item in lista if cond]\n",
        "```\n",
        "\n"
      ],
      "metadata": {
        "id": "L9sE97YfIxUq"
      }
    },
    {
      "cell_type": "markdown",
      "source": [],
      "metadata": {
        "id": "YwyzX4r1Iw9r"
      }
    },
    {
      "cell_type": "code",
      "source": [
        "medias = [round(media(nota),1) for nota in notas]\n",
        "medias"
      ],
      "metadata": {
        "colab": {
          "base_uri": "https://localhost:8080/"
        },
        "id": "yHxGpO49Gx-5",
        "outputId": "0af8ef68-08b6-4cbf-dca4-c70180bfd4b2"
      },
      "execution_count": null,
      "outputs": [
        {
          "output_type": "execute_result",
          "data": {
            "text/plain": [
              "[9.0, 7.3, 5.8, 6.7, 8.5]"
            ]
          },
          "metadata": {},
          "execution_count": 25
        }
      ]
    },
    {
      "cell_type": "markdown",
      "source": [
        "<font color = blue> Agora, precisamos utilizar as médias calculadas no exemplo anterior, pareando com o nome dos estudantes. Isto será necessário para gerar uma lista que selecione aqueles estudantes que possuam uma média final maior ou igual a 8 para concorrer a uma bolsa para o próximo ano letivo."
      ],
      "metadata": {
        "id": "Dl_VHGLzG0Jg"
      }
    },
    {
      "cell_type": "code",
      "source": [
        "# Gerando a lista de nomes (extraindo da tupla)\n",
        "nomes = [nome[0] for nome in nomes]\n",
        "nomes"
      ],
      "metadata": {
        "colab": {
          "base_uri": "https://localhost:8080/"
        },
        "id": "_oYZTeF3JPDN",
        "outputId": "330f6da1-193e-43cc-bb44-d60c42362000"
      },
      "execution_count": null,
      "outputs": [
        {
          "output_type": "execute_result",
          "data": {
            "text/plain": [
              "['João', 'Maria', 'José', 'Cláudia', 'Ana']"
            ]
          },
          "metadata": {},
          "execution_count": 35
        }
      ]
    },
    {
      "cell_type": "markdown",
      "source": [
        "## ZIP para parear elementos"
      ],
      "metadata": {
        "id": "wHvC486ZJsU1"
      }
    },
    {
      "cell_type": "code",
      "source": [
        "estudantes = list(zip(nomes, medias))\n",
        "estudantes"
      ],
      "metadata": {
        "colab": {
          "base_uri": "https://localhost:8080/"
        },
        "id": "0_yOmRJYKIZe",
        "outputId": "48507d32-1eb3-4725-d871-0ab164b9e6ad"
      },
      "execution_count": null,
      "outputs": [
        {
          "output_type": "execute_result",
          "data": {
            "text/plain": [
              "[('João', 9.0), ('Maria', 7.3), ('José', 5.8), ('Cláudia', 6.7), ('Ana', 8.5)]"
            ]
          },
          "metadata": {},
          "execution_count": 39
        }
      ]
    },
    {
      "cell_type": "code",
      "source": [
        "candidatos = [estudante[0] for estudante in estudantes if estudante[1] >= 8.0]\n",
        "candidatos"
      ],
      "metadata": {
        "colab": {
          "base_uri": "https://localhost:8080/"
        },
        "id": "ZytyAKk6KbJl",
        "outputId": "d36ec257-fbd9-455e-cf31-44d097d24a17"
      },
      "execution_count": null,
      "outputs": [
        {
          "output_type": "execute_result",
          "data": {
            "text/plain": [
              "['João', 'Ana']"
            ]
          },
          "metadata": {},
          "execution_count": 44
        }
      ]
    },
    {
      "cell_type": "markdown",
      "source": [
        "### exemplo"
      ],
      "metadata": {
        "id": "RjcRzIsULUAR"
      }
    },
    {
      "cell_type": "code",
      "source": [
        "id = [1, 2, 3, 4, 5]\n",
        "regiao = [\"Norte\", \"Nordeste\", \"Sudeste\", \"Centro-Oeste\", \"Sul\"]\n",
        "\n",
        "mapa = list(zip(id, regiao))\n",
        "mapa\n"
      ],
      "metadata": {
        "colab": {
          "base_uri": "https://localhost:8080/"
        },
        "id": "lVaRB-1aPg2Y",
        "outputId": "0ca257f0-9e34-4d99-b213-9b0abe6c06bb"
      },
      "execution_count": null,
      "outputs": [
        {
          "output_type": "execute_result",
          "data": {
            "text/plain": [
              "[(1, 'Norte'),\n",
              " (2, 'Nordeste'),\n",
              " (3, 'Sudeste'),\n",
              " (4, 'Centro-Oeste'),\n",
              " (5, 'Sul')]"
            ]
          },
          "metadata": {},
          "execution_count": 45
        }
      ]
    },
    {
      "cell_type": "code",
      "source": [
        "codigos = [\"1000\", \"1001\", \"1002\", \"1003\", \"1004\", \"1005\"]\n",
        "frutas = [\"maçã\", \"uva\", \"banana\", \"laranja\"]\n",
        "\n",
        "mercadorias = list(zip(codigos, frutas))\n",
        "mercadorias\n"
      ],
      "metadata": {
        "colab": {
          "base_uri": "https://localhost:8080/"
        },
        "id": "oKsJQezWPiAB",
        "outputId": "d59fbec5-5314-45eb-8793-0a6eaa015609"
      },
      "execution_count": null,
      "outputs": [
        {
          "output_type": "execute_result",
          "data": {
            "text/plain": [
              "[('1000', 'maçã'), ('1001', 'uva'), ('1002', 'banana'), ('1003', 'laranja')]"
            ]
          },
          "metadata": {},
          "execution_count": 46
        }
      ]
    },
    {
      "cell_type": "code",
      "source": [
        "# extraindo  daos, inverso do exemplo acima\n",
        "tupla_iteravel = [('J392', 'João'), ('M890', 'Maria'), ('J681', 'José'), ('C325', 'Claúdia'), ('A49', 'Ana')]\n",
        "ids, nomes  = zip(*tupla_iteravel)\n",
        "\n",
        "ids = list(ids)\n",
        "nomes = list(nomes)\n",
        "\n",
        "print(\"IDs = \", ids)\n",
        "print(\"Nomes = \", nomes)\n",
        "\n"
      ],
      "metadata": {
        "colab": {
          "base_uri": "https://localhost:8080/"
        },
        "id": "lTpAXhwWPk1w",
        "outputId": "d8796f52-c52e-42ce-bb5a-588ab87e3caa"
      },
      "execution_count": null,
      "outputs": [
        {
          "output_type": "stream",
          "name": "stdout",
          "text": [
            "IDs =  ['J392', 'M890', 'J681', 'C325', 'A49']\n",
            "Nomes =  ['João', 'Maria', 'José', 'Claúdia', 'Ana']\n"
          ]
        }
      ]
    },
    {
      "cell_type": "markdown",
      "source": [
        "## Lista compreenshion com if-lse"
      ],
      "metadata": {
        "id": "mAEWexbDP1Q3"
      }
    },
    {
      "cell_type": "markdown",
      "source": [
        "Criar uma lista da situação dos estudantes em que caso sua média seja maior ou igual a 6 receberá o valor \"Aprovado\" e caso contrário receberá o valor \"Reprovado\".\n",
        "\n",
        "Gerar uma lista de listas com:\n",
        "\n",
        "Lista de tuplas com o nome dos estudantes e seus códigos.\n",
        "\n",
        "Lista de listas com as notas de cada estudante.\n",
        "\n",
        "Lista com as médias de cada estudante.\n",
        "\n",
        "Lista da situação dos estudantes de acordo com as médias.\n",
        "\n",
        "Os dados que utilizaremos são os mesmos que geramos nas situações anteriores (nomes, notas, medias)."
      ],
      "metadata": {
        "id": "HSCqQcUIP-zU"
      }
    },
    {
      "cell_type": "code",
      "source": [
        "nomes = [('João', 'J720'), ('Maria', 'M205'), ('José', 'J371'), ('Cláudia', 'C546'), ('Ana', 'A347')]\n",
        "notas = [[8.0, 9.0, 10.0], [9.0, 7.0, 6.0], [3.4, 7.0, 7.0], [5.5, 6.6, 8.0], [6.0, 10.0, 9.5]]\n",
        "medias = [9.0, 7.3, 5.8, 6.7, 8.5]\n"
      ],
      "metadata": {
        "id": "-d_phSQdQFQb"
      },
      "execution_count": null,
      "outputs": []
    },
    {
      "cell_type": "markdown",
      "source": [
        "situacao = [resultado_if if conddd else resultao_else for item in lista]"
      ],
      "metadata": {
        "id": "frCyCMQGQI_G"
      }
    },
    {
      "cell_type": "code",
      "source": [
        "situacao =[\"Aprovado(a)\" if media >= 6 else \"Reprovado(a)\"for media in medias]\n",
        "situacao"
      ],
      "metadata": {
        "colab": {
          "base_uri": "https://localhost:8080/"
        },
        "id": "YCTWR-DPQRoV",
        "outputId": "271e11f0-4659-43d8-b5dc-e52910a16e66"
      },
      "execution_count": null,
      "outputs": [
        {
          "output_type": "execute_result",
          "data": {
            "text/plain": [
              "['Aprovado(a)', 'Aprovado(a)', 'Reprovado(a)', 'Aprovado(a)', 'Aprovado(a)']"
            ]
          },
          "metadata": {},
          "execution_count": 51
        }
      ]
    },
    {
      "cell_type": "code",
      "source": [
        "lista_completa = [nomes,notas, medias, situacao]\n",
        "lista_completa"
      ],
      "metadata": {
        "colab": {
          "base_uri": "https://localhost:8080/"
        },
        "id": "hZZX2tMkRDU8",
        "outputId": "764ac783-4b88-44de-d402-ef8bb7e4dec3"
      },
      "execution_count": null,
      "outputs": [
        {
          "output_type": "execute_result",
          "data": {
            "text/plain": [
              "[[('João', 'J720'),\n",
              "  ('Maria', 'M205'),\n",
              "  ('José', 'J371'),\n",
              "  ('Cláudia', 'C546'),\n",
              "  ('Ana', 'A347')],\n",
              " [[8.0, 9.0, 10.0],\n",
              "  [9.0, 7.0, 6.0],\n",
              "  [3.4, 7.0, 7.0],\n",
              "  [5.5, 6.6, 8.0],\n",
              "  [6.0, 10.0, 9.5]],\n",
              " [9.0, 7.3, 5.8, 6.7, 8.5],\n",
              " ['Aprovado(a)', 'Aprovado(a)', 'Reprovado(a)', 'Aprovado(a)', 'Aprovado(a)']]"
            ]
          },
          "metadata": {},
          "execution_count": 56
        }
      ]
    },
    {
      "cell_type": "markdown",
      "source": [
        "\n",
        "#Dict comprehension"
      ],
      "metadata": {
        "id": "nNk4MU1VRYm4"
      }
    },
    {
      "cell_type": "markdown",
      "source": [
        "<font color = orange> {chave: valor for item in lista}\n"
      ],
      "metadata": {
        "id": "xgi88RmlSDZU"
      }
    },
    {
      "cell_type": "code",
      "source": [
        "lista_completa = [[('João', 'J720'), ('Maria', 'M205'), ('José', 'J371'), ('Cláudia', 'C546'), ('Ana', 'A347')],\n",
        "                  [[8.0, 9.0, 10.0], [9.0, 7.0, 6.0], [3.4, 7.0, 7.0], [5.5, 6.6, 8.0], [6.0, 10.0, 9.5]],\n",
        "                  [9.0, 7.3, 5.8, 6.7, 8.5],\n",
        "                  ['Aprovado', 'Aprovado', 'Reprovado', 'Aprovado', 'Aprovado']]\n"
      ],
      "metadata": {
        "id": "cIuYDt2xSWAt"
      },
      "execution_count": null,
      "outputs": []
    },
    {
      "cell_type": "code",
      "source": [
        "# Colunas com os tipode dos dados (exceto nome)\n",
        "# usamos i +1 no valor para não pegar a tupla de nome com código\n",
        "coluna = [\"Notas\", \"Média final\",\"Situação\"]\n",
        "\n",
        "cadastro = { coluna[i] :lista_completa[i+1] for i in range(len(coluna))}\n",
        "cadastro"
      ],
      "metadata": {
        "colab": {
          "base_uri": "https://localhost:8080/"
        },
        "id": "S9B6M5LSSppc",
        "outputId": "93343190-1f51-4d64-a087-d1ea812b7613"
      },
      "execution_count": null,
      "outputs": [
        {
          "output_type": "execute_result",
          "data": {
            "text/plain": [
              "{'Notas': [[8.0, 9.0, 10.0],\n",
              "  [9.0, 7.0, 6.0],\n",
              "  [3.4, 7.0, 7.0],\n",
              "  [5.5, 6.6, 8.0],\n",
              "  [6.0, 10.0, 9.5]],\n",
              " 'Média final': [9.0, 7.3, 5.8, 6.7, 8.5],\n",
              " 'Situação': ['Aprovado', 'Aprovado', 'Reprovado', 'Aprovado', 'Aprovado']}"
            ]
          },
          "metadata": {},
          "execution_count": 61
        }
      ]
    },
    {
      "cell_type": "code",
      "source": [
        "# Vamos por fim adiiconaar o nome dos studantes, extraindo apenas seus nomes\n",
        "cadastro[\"Estudante\"]=  [lista_completa[0][i][0] for i in range (len(lista_completa[0]))]\n",
        "cadastro"
      ],
      "metadata": {
        "colab": {
          "base_uri": "https://localhost:8080/"
        },
        "id": "HlT-xinSTfYi",
        "outputId": "3975225a-cb70-472c-88de-9ec587246c87"
      },
      "execution_count": null,
      "outputs": [
        {
          "output_type": "execute_result",
          "data": {
            "text/plain": [
              "{'Notas': [[8.0, 9.0, 10.0],\n",
              "  [9.0, 7.0, 6.0],\n",
              "  [3.4, 7.0, 7.0],\n",
              "  [5.5, 6.6, 8.0],\n",
              "  [6.0, 10.0, 9.5]],\n",
              " 'Média final': [9.0, 7.3, 5.8, 6.7, 8.5],\n",
              " 'Situação': ['Aprovado', 'Aprovado', 'Reprovado', 'Aprovado', 'Aprovado'],\n",
              " 'Estudante': ['João', 'Maria', 'José', 'Cláudia', 'Ana']}"
            ]
          },
          "metadata": {},
          "execution_count": 64
        }
      ]
    },
    {
      "cell_type": "markdown",
      "source": [
        "#Tratamento exceções"
      ],
      "metadata": {
        "id": "fgqerZ-iUjur"
      }
    },
    {
      "cell_type": "markdown",
      "source": [
        "<font color = blue> O tratamento de exceções é muito útil quando queremos no nosso fluxo do código não seja interrompido.\n",
        "Por exemplo, através de alternativas e edscrições para o usuário."
      ],
      "metadata": {
        "id": "lCOk0KweNn-J"
      }
    },
    {
      "cell_type": "code",
      "source": [
        "except <nome_da_excecao as e>:"
      ],
      "metadata": {
        "id": "WrkTlq1eO2FX"
      },
      "execution_count": null,
      "outputs": []
    },
    {
      "cell_type": "markdown",
      "source": [
        "Vamos trabalhar nesse exemplo com a exceção Key Error que interromperá o processo desse pedaço do código. Vamos testar esse primeiro tratamento?"
      ],
      "metadata": {
        "id": "Tp1QyM_WRBCD"
      }
    },
    {
      "cell_type": "code",
      "source": [
        "notas = {'João': [8.0, 9.0, 10.0], 'Maria': [9.0, 7.0, 6.0],\n",
        "         'José': [3.4, 7.0, 8.0],'Cláudia': [5.5, 6.6, 8.0],\n",
        "         'Ana': [6.0, 10.0, 9.5], 'Joaquim': [5.5, 7.5, 9.0],\n",
        "         'Júlia': [6.0, 8.0, 7.0], 'Pedro': [3.0, 4.0, 6.0]}"
      ],
      "metadata": {
        "id": "yRzKWne7RLKG"
      },
      "execution_count": null,
      "outputs": []
    },
    {
      "cell_type": "code",
      "source": [
        "nome = input(\"Digite o nome do(a) estudante: \")\n",
        "resultado = notas[nome]\n",
        "resultado"
      ],
      "metadata": {
        "colab": {
          "base_uri": "https://localhost:8080/",
          "height": 227
        },
        "id": "r8nWkysiRPPT",
        "outputId": "99e9ae69-b26a-4fb0-fa44-7b3085e9bd7d"
      },
      "execution_count": null,
      "outputs": [
        {
          "name": "stdout",
          "output_type": "stream",
          "text": [
            "Digite o nome do(a) estudante: Matheus\n"
          ]
        },
        {
          "output_type": "error",
          "ename": "KeyError",
          "evalue": "ignored",
          "traceback": [
            "\u001b[0;31m---------------------------------------------------------------------------\u001b[0m",
            "\u001b[0;31mKeyError\u001b[0m                                  Traceback (most recent call last)",
            "\u001b[0;32m<ipython-input-2-088949fbf590>\u001b[0m in \u001b[0;36m<cell line: 2>\u001b[0;34m()\u001b[0m\n\u001b[1;32m      1\u001b[0m \u001b[0mnome\u001b[0m \u001b[0;34m=\u001b[0m \u001b[0minput\u001b[0m\u001b[0;34m(\u001b[0m\u001b[0;34m\"Digite o nome do(a) estudante: \"\u001b[0m\u001b[0;34m)\u001b[0m\u001b[0;34m\u001b[0m\u001b[0;34m\u001b[0m\u001b[0m\n\u001b[0;32m----> 2\u001b[0;31m \u001b[0mresultado\u001b[0m \u001b[0;34m=\u001b[0m \u001b[0mnotas\u001b[0m\u001b[0;34m[\u001b[0m\u001b[0mnome\u001b[0m\u001b[0;34m]\u001b[0m\u001b[0;34m\u001b[0m\u001b[0;34m\u001b[0m\u001b[0m\n\u001b[0m\u001b[1;32m      3\u001b[0m \u001b[0mresultado\u001b[0m\u001b[0;34m\u001b[0m\u001b[0;34m\u001b[0m\u001b[0m\n",
            "\u001b[0;31mKeyError\u001b[0m: 'Matheus'"
          ]
        }
      ]
    },
    {
      "cell_type": "code",
      "source": [
        "try:\n",
        "    nome = input(\"Digite o nome do(a) estudante: \")\n",
        "    resultado = notas[nome]\n",
        "except Exception as e:\n",
        "    print(type(e), f\"Erro: {e}\")"
      ],
      "metadata": {
        "colab": {
          "base_uri": "https://localhost:8080/"
        },
        "id": "9SiUw2mtRSKO",
        "outputId": "714d1c85-d419-4fd7-9a7f-8e0fdc2f0075"
      },
      "execution_count": null,
      "outputs": [
        {
          "output_type": "stream",
          "name": "stdout",
          "text": [
            "Digite o nome do(a) estudante: Matheus\n",
            "<class 'KeyError'> Erro: 'Matheus'\n"
          ]
        }
      ]
    },
    {
      "cell_type": "code",
      "source": [
        "try:\n",
        "    nome = input(\"Digite o nome do(a) estudante: \")\n",
        "    resultado = notas[nome]\n",
        "except KeyError:\n",
        "    print(\"Estudante não matriculado(a) na turma\")"
      ],
      "metadata": {
        "colab": {
          "base_uri": "https://localhost:8080/"
        },
        "id": "eMoHs3RZRZ0i",
        "outputId": "ea585f73-0864-4386-c137-76e4dd6585b6"
      },
      "execution_count": null,
      "outputs": [
        {
          "output_type": "stream",
          "name": "stdout",
          "text": [
            "Digite o nome do(a) estudante: Matheus\n",
            "Estudante não matriculado(a) na turma\n"
          ]
        }
      ]
    },
    {
      "cell_type": "markdown",
      "source": [
        "Você criou um código que lê um dicionário com as notas dos estudantes e quis retornar a lista de notas de determinado(a) estudante. Caso o(a) estudante não esteja matriculado(a) na classe devemos tratar a exceção para aparecer a mensagem \"Estudante não matriculado(a) na turma\", e se a exceção não for lançada devemos exibir a lista com as notas do(a) estudante. Vamos trabalhar nesse exemplo com a exceção Key Error que interromperá o processo desse pedaço do código. Vamos testar esse tratamento?\n"
      ],
      "metadata": {
        "id": "WjfgSAHJRfNE"
      }
    },
    {
      "cell_type": "code",
      "source": [
        "try:\n",
        "    nome = input(\"Digite o nome do(a) estudante: \")\n",
        "    resultado = notas[nome]\n",
        "except KeyError:\n",
        "    print(\"Estudante não matriculado(a) na turma\")\n",
        "else:\n",
        "    print(resultado)"
      ],
      "metadata": {
        "colab": {
          "base_uri": "https://localhost:8080/"
        },
        "id": "jISr3xOnRlNr",
        "outputId": "76906f76-0455-4908-bdf3-dc1fd62a5f7a"
      },
      "execution_count": null,
      "outputs": [
        {
          "output_type": "stream",
          "name": "stdout",
          "text": [
            "Digite o nome do(a) estudante: Joaquim\n",
            "[5.5, 7.5, 9.0]\n"
          ]
        }
      ]
    },
    {
      "cell_type": "markdown",
      "source": [
        "## Finally"
      ],
      "metadata": {
        "id": "fACibbDQRoA_"
      }
    },
    {
      "cell_type": "code",
      "source": [
        "try:\n",
        "    # código aa ser executado. Caso uma exceção seja lançada, par imediatamente\n",
        "except:\n",
        "    # Se umaa exceçãao for lançada no try, rode esse código, senão pule esta etapa\n",
        "else:\n",
        "    # se não houver uma exceção lançada pelo try, rode essa parte\n",
        "finally:\n",
        "    # Rode essa parte (com ou sem exceção)"
      ],
      "metadata": {
        "colab": {
          "base_uri": "https://localhost:8080/",
          "height": 140
        },
        "id": "_c3zZTcCR5N7",
        "outputId": "5640829d-96f9-4fad-ad95-227203834cad"
      },
      "execution_count": null,
      "outputs": [
        {
          "output_type": "error",
          "ename": "IndentationError",
          "evalue": "ignored",
          "traceback": [
            "\u001b[0;36m  File \u001b[0;32m\"<ipython-input-6-dcf8b802e445>\"\u001b[0;36m, line \u001b[0;32m3\u001b[0m\n\u001b[0;31m    except:\u001b[0m\n\u001b[0m    ^\u001b[0m\n\u001b[0;31mIndentationError\u001b[0m\u001b[0;31m:\u001b[0m expected an indented block after 'try' statement on line 1\n"
          ]
        }
      ]
    },
    {
      "cell_type": "markdown",
      "source": [
        "Você criou um código que lê um dicionário com as notas dos estudantes e quis retornar a lista de notas de um estudante. Caso o(a) estudante não esteja matriculado(a) na classe devemos tratar a exceção para aparecer a mensagem \"Estudante não matriculado(a) na turma\" e se a exceção não for lançada devemos exibir a lista com as notas do(a) estudante. Um texto avisando que \"A consulta foi encerrada!\" deve ser exibido com ou sem a exceção ser lançada. Vamos trabalhar nesse exemplo com a exceção Key Error que interromperá o processo desse pedaço do codigo. Vamos testar esse tratamento?"
      ],
      "metadata": {
        "id": "67DuLq8XSgA6"
      }
    },
    {
      "cell_type": "code",
      "source": [
        "try:\n",
        "    nome = input(\"Digite o nome do(a) estudante: \")\n",
        "    resultado = notas[nome]\n",
        "except KeyError:\n",
        "    print(\"Estudante não matriculado(a) na turma\")\n",
        "else:\n",
        "    print(resultado)\n",
        "finally:\n",
        "    print(\"A consulta foi encerrada!\")"
      ],
      "metadata": {
        "colab": {
          "base_uri": "https://localhost:8080/"
        },
        "id": "vNaKFUxqSoaQ",
        "outputId": "5851a35b-6472-4fa8-82bc-b1ec212dca68"
      },
      "execution_count": null,
      "outputs": [
        {
          "output_type": "stream",
          "name": "stdout",
          "text": [
            "Digite o nome do(a) estudante: Joaquim\n",
            "[5.5, 7.5, 9.0]\n",
            "A consulta foi encerrada!\n"
          ]
        }
      ]
    },
    {
      "cell_type": "markdown",
      "source": [
        "##  Raise"
      ],
      "metadata": {
        "id": "noB6ro7SSqz2"
      }
    },
    {
      "cell_type": "markdown",
      "source": [
        "<font color = blue> Outra forma de trabalhar com exceções, é criar uma própria pensando em um comportamento que não queremos que ocorra em nosso programa. Para isso, usamos a palavra-chave raise que permitirá que lancemos uma exceção."
      ],
      "metadata": {
        "id": "Jab955kIWgi1"
      }
    },
    {
      "cell_type": "code",
      "source": [
        "raise ValueError(\"A lista de notas deve possuir dez elementos\")\n"
      ],
      "metadata": {
        "colab": {
          "base_uri": "https://localhost:8080/",
          "height": 175
        },
        "id": "gmrQojMOTsLI",
        "outputId": "cecf65b3-7b2e-4647-ab0e-fa382eb4c1d0"
      },
      "execution_count": null,
      "outputs": [
        {
          "output_type": "error",
          "ename": "ValueError",
          "evalue": "ignored",
          "traceback": [
            "\u001b[0;31m---------------------------------------------------------------------------\u001b[0m",
            "\u001b[0;31mValueError\u001b[0m                                Traceback (most recent call last)",
            "\u001b[0;32m<ipython-input-14-27f68dd258bf>\u001b[0m in \u001b[0;36m<cell line: 1>\u001b[0;34m()\u001b[0m\n\u001b[0;32m----> 1\u001b[0;31m \u001b[0;32mraise\u001b[0m \u001b[0mValueError\u001b[0m\u001b[0;34m(\u001b[0m\u001b[0;34m\"A lista de notas deve possuir dez elementos\"\u001b[0m\u001b[0;34m)\u001b[0m\u001b[0;34m\u001b[0m\u001b[0;34m\u001b[0m\u001b[0m\n\u001b[0m",
            "\u001b[0;31mValueError\u001b[0m: A lista de notas deve possuir dez elementos"
          ]
        }
      ]
    },
    {
      "cell_type": "markdown",
      "source": [
        "Você criou uma função para calcular a média de um estudante em uma dada matéria passando em uma lista as notas deste estudante. Você pretende tratar 2 situações:\n",
        "\n",
        "Se a lista possuir um valor não numérico o cálculo de média não serà executado e uma mensagem de \"Não foi possível calcular a média do(a) estudante. Só são aceitos valores numéricos!\" será exibida.\n",
        "Caso a lista tenha mais de 4 notas, será lançada uma exceção do tipo ValueError informando que \"A lista não pode possuir mais de 4 notas.\"\n",
        "Um texto avisando que \"A consulta foi encerrada!\" deve ser exibido com ou sem a exceção ser lançada. Vamos resolver esse desafio?"
      ],
      "metadata": {
        "id": "mPjh24UeWzRN"
      }
    },
    {
      "cell_type": "code",
      "source": [
        "def media(lista: list=[0]) -> float:\n",
        "    ''' Função para calcular a média de notas passadas por uma lista\n",
        "\n",
        "lista: list, default[0]\n",
        "    Lista com as notas para calcular a média\n",
        "    return calculo: float\n",
        "    Média calculada\n",
        "'''\n",
        "\n",
        "    calculo = sum(lista) / len(lista)\n",
        "\n",
        "    if len(lista) > 4:\n",
        "        raise ValueError(\"A lista não pode possuir mais de 4 notas.\")\n",
        "\n",
        "    return calculo"
      ],
      "metadata": {
        "id": "REJ11UwfWzuf"
      },
      "execution_count": null,
      "outputs": []
    },
    {
      "cell_type": "code",
      "source": [
        "raise ValueError(\"A lista não pode possuir mais de 4 notas.\")"
      ],
      "metadata": {
        "colab": {
          "base_uri": "https://localhost:8080/",
          "height": 175
        },
        "id": "tuVSQSIGXE64",
        "outputId": "2fa69689-f0d5-4644-ddae-88321acbfff3"
      },
      "execution_count": null,
      "outputs": [
        {
          "output_type": "error",
          "ename": "ValueError",
          "evalue": "ignored",
          "traceback": [
            "\u001b[0;31m---------------------------------------------------------------------------\u001b[0m",
            "\u001b[0;31mValueError\u001b[0m                                Traceback (most recent call last)",
            "\u001b[0;32m<ipython-input-15-4408683d4bf1>\u001b[0m in \u001b[0;36m<cell line: 1>\u001b[0;34m()\u001b[0m\n\u001b[0;32m----> 1\u001b[0;31m \u001b[0;32mraise\u001b[0m \u001b[0mValueError\u001b[0m\u001b[0;34m(\u001b[0m\u001b[0;34m\"A lista não pode possuir mais de 4 notas.\"\u001b[0m\u001b[0;34m)\u001b[0m\u001b[0;34m\u001b[0m\u001b[0;34m\u001b[0m\u001b[0m\n\u001b[0m",
            "\u001b[0;31mValueError\u001b[0m: A lista não pode possuir mais de 4 notas."
          ]
        }
      ]
    },
    {
      "cell_type": "code",
      "source": [
        "try:\n",
        "    notas = [6, 7, 8, 6, 9]\n",
        "    resultado = media(notas)\n",
        "except TypeError:\n",
        "    print(\"Não foi possível calcular a média do(a) estudante. Só são aceitos valores numéricos!\")\n",
        "except ValueError as e:\n",
        "    print(e)\n",
        "else:\n",
        "    print(resultado)\n",
        "finally:\n",
        "    print(\"A consulta foi encerrada!\")"
      ],
      "metadata": {
        "colab": {
          "base_uri": "https://localhost:8080/"
        },
        "id": "ZY0EkP--X0V0",
        "outputId": "679b3abc-526e-4b51-d207-35bd6b8c6dd7"
      },
      "execution_count": null,
      "outputs": [
        {
          "output_type": "stream",
          "name": "stdout",
          "text": [
            "A lista não pode possuir mais de 4 notas.\n",
            "A consulta foi encerrada!\n"
          ]
        }
      ]
    },
    {
      "cell_type": "markdown",
      "source": [
        "# Exercicios"
      ],
      "metadata": {
        "id": "f8C-tKrsX1tt"
      }
    },
    {
      "cell_type": "markdown",
      "source": [
        "<font color = orange> 1. Faça um programa que solicite à pessoa usuária digitar dois números float e calcular a divisão entre esses números. O código deve conter um tratamento de erro, indicando o tipo de erro que foi gerado caso a divisão não seja possível de realizar.\n",
        "\n",
        "<font color = orange>Teste o programa com o segundo valor numérico do input igual a 0. Também teste utilizando caracteres textuais no input para checar os tipos de erro que ocorrem."
      ],
      "metadata": {
        "id": "NEUy8kje0Rmb"
      }
    },
    {
      "cell_type": "code",
      "source": [
        "\n",
        "\n",
        "def divisao(n1:float,n2:float) -> float:\n",
        "    \"\"\"\n",
        "        função para calcular ivisão entre dois números float\n",
        "    \"\"\"\n",
        "\n",
        "    if n2 == 0:\n",
        "        raise ValueError(\"O segundo número não pode ser ZERO\") # inserimos o erro de divisão por zero.\n",
        "    calculo = n1/n2\n",
        "    return calculo"
      ],
      "metadata": {
        "id": "i1p-_C_i0bYM"
      },
      "execution_count": 24,
      "outputs": []
    },
    {
      "cell_type": "code",
      "source": [
        "try:\n",
        "    n1= float(input(\"Digite o primeiro número\"))\n",
        "    n2= float(input(\"Digite o segundo número\"))\n",
        "    resultado = divisao(n1,n2)\n",
        "    print(f\"O resultado da divisão : {resultado}\")\n",
        "except ValueError as ve:\n",
        "    print(f\"Erro: {ve}\")\n",
        "except Exception as e:\n",
        "    print(type(e),f'Erro: {e}')"
      ],
      "metadata": {
        "colab": {
          "base_uri": "https://localhost:8080/"
        },
        "id": "Yl510OP502A_",
        "outputId": "54b2c494-8713-4d58-8a6c-47e4cf0f7425"
      },
      "execution_count": 23,
      "outputs": [
        {
          "output_type": "stream",
          "name": "stdout",
          "text": [
            "Digite o primeiro número3.2\n",
            "Digite o segundo número2.1\n",
            "O resultado da divisão : 1.5238095238095237\n"
          ]
        }
      ]
    },
    {
      "cell_type": "markdown",
      "source": [
        "<font color = orange>2. Faça um programa que solicite à pessoa usuária digitar um texto que será uma chave a ser pesquisada no seguinte dicionário: idades = {'Júlia': 16, 'Carol': 23, 'Alberto': 19, 'Roberta': 17}, armazenando o resultado do valor em uma variável. O código deve conter um tratamento de erro KeyError, imprimindo a informação 'Nome não encontrado', caso ocorra o erro; e imprimir o valor caso não ocorra nenhum."
      ],
      "metadata": {
        "id": "tImgsuat1ACf"
      }
    },
    {
      "cell_type": "code",
      "source": [
        "idades = {'Júlia': 16, 'Carol': 23, 'Alberto': 19, 'Roberta': 17}"
      ],
      "metadata": {
        "id": "kzLMMW-a6qfX"
      },
      "execution_count": 25,
      "outputs": []
    },
    {
      "cell_type": "code",
      "source": [
        "try:\n",
        "    n1 = str(input(\"Digite o nome de uma pessoa!: \"))\n",
        "    v1 = idades[n1]\n",
        "    print(f\"A idade da pessoa {n1 } é {v1}\")\n",
        "except KeyError as ke:\n",
        "    print(f\"Nome não encontrado : {ke}\")"
      ],
      "metadata": {
        "colab": {
          "base_uri": "https://localhost:8080/"
        },
        "id": "offBd9Y56u5R",
        "outputId": "a1a07f4d-ec13-4bef-ece2-23d4520458d1"
      },
      "execution_count": 29,
      "outputs": [
        {
          "output_type": "stream",
          "name": "stdout",
          "text": [
            "Digite o nome de uma pessoa!: Jonas\n",
            "Nome não encontrado : 'Jonas'\n"
          ]
        }
      ]
    },
    {
      "cell_type": "markdown",
      "source": [
        "<font color = orange> 3. Crie uma função que recebe uma lista como parâmetro e converta todos os valores da lista para float. A função deve conter um tratamento de erro indicando o tipo de erro gerado e retornar a lista caso não tenha ocorrido nenhum erro. Por fim, deve ter a cláusula finally para imprimir o texto: 'Fim da execução da função'."
      ],
      "metadata": {
        "id": "EPBFJL161kjv"
      }
    },
    {
      "cell_type": "code",
      "source": [
        "def converte_lista(lista):\n",
        "    try:\n",
        "        nova_lista = [float(elemento) for elemento in lista]\n",
        "    except Exception as e:\n",
        "        print(type(e),f\"Erro : {e}\")\n",
        "    else:\n",
        "        return nova_lista\n",
        "    finally:\n",
        "        print(\"Fim da execução da função\")"
      ],
      "metadata": {
        "id": "lu5C7GtX8eIw"
      },
      "execution_count": 32,
      "outputs": []
    },
    {
      "cell_type": "code",
      "source": [
        "converte_lista([3,4,3,4])"
      ],
      "metadata": {
        "colab": {
          "base_uri": "https://localhost:8080/"
        },
        "id": "PnRIS7ov9Hq3",
        "outputId": "2ac05750-aec4-4ca7-e1d2-4de3768563a3"
      },
      "execution_count": 34,
      "outputs": [
        {
          "output_type": "stream",
          "name": "stdout",
          "text": [
            "Fim da execução da função\n"
          ]
        },
        {
          "output_type": "execute_result",
          "data": {
            "text/plain": [
              "[3.0, 4.0, 3.0, 4.0]"
            ]
          },
          "metadata": {},
          "execution_count": 34
        }
      ]
    },
    {
      "cell_type": "markdown",
      "source": [
        "<font color = orange> 4. Crie uma função que recebe duas listas como parâmetros e agrupe os elementos um a um das listas, formando uma lista de tuplas de 3 elementos, no qual o primeiro e segundo elemento da tupla são os valores na posição i das listas e o terceiro elemento é a soma dos valores na posição i das listas."
      ],
      "metadata": {
        "id": "cJQjI20V1p8Q"
      }
    },
    {
      "cell_type": "code",
      "source": [
        "def soma_listas(lista1, lista2):\n",
        "    try:\n",
        "        if len(lista1) == len(lista2):\n",
        "            dados = [(lista1[i], lista2[i], lista1[i]+lista2[i]) for i in range(len(lista1))]\n",
        "        else:\n",
        "            raise IndexError('A quantidade de elementos em cada lista é diferente.')\n",
        "    except Exception as e:\n",
        "        print(type(e), f'Erro: {e}')\n",
        "    else:\n",
        "        return dados\n"
      ],
      "metadata": {
        "id": "4QCLlZ2P19h_"
      },
      "execution_count": 35,
      "outputs": []
    },
    {
      "cell_type": "code",
      "source": [
        "\n"
      ],
      "metadata": {
        "id": "U0L1vKHvCP82"
      },
      "execution_count": null,
      "outputs": []
    }
  ]
}